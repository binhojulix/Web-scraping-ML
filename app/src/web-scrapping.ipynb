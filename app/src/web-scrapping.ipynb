{
 "cells": [
  {
   "cell_type": "markdown",
   "metadata": {},
   "source": [
    "# import lib"
   ]
  },
  {
   "cell_type": "code",
   "execution_count": 46,
   "metadata": {},
   "outputs": [
    {
     "name": "stdout",
     "output_type": "stream",
     "text": [
      "15/6/1988\n"
     ]
    }
   ],
   "source": [
    "from models.Data import Data\n",
    "d = Data(15, 6,1988)\n",
    "d.formatada()"
   ]
  },
  {
   "cell_type": "code",
   "execution_count": 111,
   "metadata": {},
   "outputs": [
    {
     "name": "stdout",
     "output_type": "stream",
     "text": [
      "https://celulares.mercadolibre.com.ar/celular-smarphones_NoIndex_True\n",
      "['Xiaomi Mi 11 Lite 5G Dual SIM 128 GB negro trufa 6 GB RAMVendido por XiaomiAntes: 114999 pesos$114.99979919 pesos$79.91930% OFFHasta 3 cuotas sin interésLlega gratis mañana125Disponible en 2 colores']\n",
      "['RECOMENDADO Moto E7 32 GB azul aqua 2 GB RAMVendido por Motorola22999 pesos$22.999Hasta 9 cuotas sin interésLlega gratis mañana1708Disponible en 3 colores']\n",
      "['Samsung Galaxy A32 128 GB awesome black 4 GB RAMVendido por Samsung48999 pesos$48.999Hasta 3 cuotas sin interésLlega gratis mañana3457Disponible en 3 colores']\n",
      "['Samsung Galaxy M12 (5000 mAh) Dual SIM 128 GB black 4 GB RAMVendido por Samsung37999 pesos$37.999Hasta 9 cuotas sin interésLlega gratis mañana697Disponible en 2 colores']\n",
      "['Samsung Galaxy S21+ 5G 128 GB phantom silver 8 GB RAMVendido por Samsung158999 pesos$158.999Hasta 9 cuotas sin interésLlega gratis mañana174Disponible en 3 colores']\n",
      "['Alcatel 3H 64 GB twilight blue 3 GB RAM19890 pesos$19.890Llega gratis hoy83Disponible en 2 colores']\n",
      "['LG B220 Dual SIM 32 MB negro 32 MB RAM5650 pesos$5.650Envío gratis173']\n",
      "['MÁS VENDIDO Moto G20 64 GB rosa flamingo 4 GB RAMVendido por Motorola30999 pesos$30.999Hasta 3 cuotas sin interésLlega gratis mañana2309Disponible en 4 colores']\n",
      "['Samsung Galaxy A03s 64 GB negro 4 GB RAMVendido por Samsung28999 pesos$28.999Hasta 3 cuotas sin interésLlega gratis mañana161Disponible en 2 colores']\n",
      "['OFERTA DEL DÍAXiaomi Redmi Note 9 Pro (64 Mpx) Dual SIM 128 GB gris interestelar 6 GB RAMAntes: 84999 pesos$84.99976584 pesos$76.5849% OFFHasta 9 cuotas sin interésLlega gratis hoy361Disponible en 2 colores']\n",
      "['Samsung Galaxy A01 Core 16 GB azul 1 GB RAMVendido por Samsung15999 pesos$15.999Llega gratis mañana3054Disponible en 2 colores']\n",
      "['Quantum YOLO Dual SIM 32 GB negro 1 GB RAM10536 pesos$10.536Llega gratis mañana163Disponible en 2 colores']\n",
      "['LG K41S 32 GB titanio 3 GB RAMVendido por Diggit21999 pesos$21.999Hasta 3 cuotas sin interésLlega gratis mañana394Disponible en 2 colores']\n",
      "['RECOMENDADOSamsung Galaxy A12 64 GB negro 4 GB RAM34999 pesos$34.999Hasta 9 cuotas sin interésLlega gratis mañana2482Disponible en 2 colores']\n",
      "['LG K22 32 GB blue 2 GB RAMVendido por DiggitAntes: 19999 pesos$19.99918999 pesos$18.9995% OFFHasta 3 cuotas sin interésLlega gratis mañana941Disponible en 3 colores']\n",
      "['Motorola 20 Lite 128 GB gris 6 GB RAMVendido por Motorola69999 pesos$69.999Hasta 9 cuotas sin interésLlega gratis mañana47Disponible en 2 colores']\n",
      "['Samsung Galaxy A52 128 GB awesome blue 6 GB RAMVendido por Samsung61999 pesos$61.999Hasta 9 cuotas sin interésLlega gratis mañana1563Disponible en 4 colores']\n",
      "['LG K22+ 64 GB titan 3 GB RAMVendido por DiggitAntes: 22999 pesos$22.99920999 pesos$20.9998% OFFHasta 3 cuotas sin interésLlega gratis mañana331Disponible en 2 colores']\n",
      "['Xiaomi Mi 11 Lite 5G Dual SIM 128 GB negro trufa 6 GB RAMVendido por XiaomiAntes: 114999 pesos$114.99979919 pesos$79.91930% OFFHasta 3 cuotas sin interésLlega gratis mañana125Promocionado']\n",
      "['Positivo Q20 Dual SIM 128 GB pearl white 4 GB RAMVendido por Mercado Libre Electronica27999 pesos$27.999Hasta 9 cuotas sin interésLlega gratis mañana12Promocionado']\n",
      "['Xiaomi Pocophone Poco X3 Pro Dual SIM 256 GB negro fantasma 8 GB RAM85999 pesos$85.999Llega gratis hoy96Disponible en 3 colores']\n",
      "['Kodak Smartway L1 Pro Dual SIM 16 GB plata 1 GB RAM10999 pesos$10.999Llega gratis mañana140Disponible en 2 colores']\n",
      "['Apple iPhone SE (2da generación) 128 GB - Negro135499 pesos$135.499Llega gratis mañana108Disponible en 3 colores']\n",
      "['Xiaomi Pocophone Poco X3 Pro Dual SIM 128 GB negro fantasma 6 GB RAM72199 pesos$72.199Llega gratis hoy96Disponible en 3 colores']\n",
      "['Kodak Smartway M2 Dual SIM 32 GB azul 3 GB RAM18159 pesos$18.159Llega gratis hoy204Disponible en 2 colores']\n",
      "['Energizer Energy E10+ Dual SIM 32 MB negro 32 MB RAM4199 pesos$4.199Llega gratis hoy133']\n",
      "['LG K61 128 GB titanio 4 GB RAMVendido por LG34999 pesos$34.999Hasta 3 cuotas sin interésLlega gratis mañana1339']\n",
      "['LG K51S 64 GB titan 3 GB RAMVendido por LG27999 pesos$27.999Hasta 9 cuotas sin interésLlega gratis mañana506']\n",
      "['Kodak Smartway F1 Dual SIM 64 GB plata 4 GB RAM22799 pesos$22.799Llega gratis hoy103Disponible en 2 colores']\n",
      "['Tcl 20 Se 256 Gb Gris 6 Gb Ram39999 pesos$39.999Hasta 9 cuotas sin interésLlega gratis mañanaPromocionado']\n",
      "['LG K51S 64 GB titan 3 GB RAMVendido por LG27999 pesos$27.999Hasta 9 cuotas sin interésLlega gratis mañana506Promocionado']\n",
      "[' Moto G20 128 GB verde petróleo 4 GB RAM50999 pesos$50.999Hasta 3 cuotas sin interésEnvío gratis2304Disponible en 3 colores']\n",
      "['Nokia 106 (2018) 4 MB gris oscuro 4 MB RAM6130 pesos$6.130Llega gratis mañana512']\n",
      "['Nokia 1.3 16 GB cian 1 GB RAM14899 pesos$14.899Llega gratis mañana390Disponible en 2 colores']\n",
      "['TCL L10 Lite 32 GB power grey 2 GB RAM16599 pesos$16.599Llega gratis mañana217']\n",
      "['Quantum Switch Dual SIM 32 GB negro 1 GB RAMVendido por Mercado Libre ElectronicaAntes: 12999 pesos$12.99911399 pesos$11.39912% OFFHasta 3 cuotas sin interésLlega gratis mañana29']\n",
      "['iPro A20 Dual SIM 32 MB negro 32 MB RAM4799 pesos$4.799Llega gratis mañana103']\n",
      "[' Moto E7i Power 32 GB naranja 2 GB RAM20999 pesos$20.999Hasta 3 cuotas sin interésLlega gratis mañana696Disponible en 2 colores']\n",
      "['Quantum UP32 Dual SIM 32 GB negro 1 GB RAMAntes: 14999 pesos$14.99911999 pesos$11.99920% OFFLlega gratis mañana273Disponible en 2 colores']\n",
      "['Samsung Galaxy A12 128 GB negro 4 GB RAMVendido por Diggit35999 pesos$35.999Hasta 9 cuotas sin interésEnvío gratis2482']\n",
      "['TCL 20 E 128 GB twilight blue 4 GB RAM28626 pesos$28.626Hasta 9 cuotas sin interésLlega gratis mañana86Disponible en 3 colores']\n",
      "['LG K62 128 GB sky blue 4 GB RAMVendido por Diggit31999 pesos$31.999Hasta 9 cuotas sin interésEnvío gratis184']\n",
      "['Alcatel 1050 32 MB negro 32 MB RAM6900 pesos$6.900Llega gratis hoy145']\n",
      "['LG K52 (48 Mpx) 64 GB blue 4 GB RAMVendido por LG26999 pesos$26.999Hasta 9 cuotas sin interésEnvío gratis632']\n",
      "['Sansei S191 Dual SIM 3 MB negro/rojo 4 MB RAM3489 pesos$3.489Llega mañana336']\n",
      "['Panacom MP-1112 Dual SIM 128 MB black/red edge 64 MB RAM6326 pesos$6.326Llega gratis hoy47Disponible en 2 colores']\n",
      "['LG K42 64 GB gray 3 GB RAMVendido por LG24999 pesos$24.999Hasta 9 cuotas sin interésLlega gratis mañana472']\n",
      "['Alcatel 1 16 GB negro metálico 1 GB RAM10560 pesos$10.560Envío gratis1562']\n",
      "['Philco P241 Dual SIM 512 MB negro 256 MB RAM7339 pesos$7.339Llega gratis mañana222']\n",
      "['Samsung Galaxy S20 FE 128 GB cloud navy 6 GB RAMVendido por Samsung89999 pesos$89.999Hasta 3 cuotas sin interésLlega gratis mañana2497Disponible en 3 colores']\n",
      "['TCL 20 E 64 GB elegant black 3 GB RAMVendido por Mercado Libre Electronica22999 pesos$22.999Hasta 3 cuotas sin interésLlega gratis mañana86']\n",
      "['Alcatel 1 8 GB negro metálico 1 GB RAMVendido por Casa del audio12292 pesos$12.292Llega gratis mañana1557']\n",
      "['Positivo Q20 Dual SIM 128 GB pearl white 4 GB RAMVendido por Mercado Libre Electronica27999 pesos$27.999Hasta 9 cuotas sin interésLlega gratis mañana12Disponible en 2 colores']\n",
      "['Samsung Galaxy A03s 64gb 4gbVendido por Mercado Libre Electronica28999 pesos$28.999Hasta 3 cuotas sin interésLlega gratis mañanaColor:AzulAzulAzulNegroNegro']\n",
      "['AzulAzul']\n",
      "['NegroNegro']\n"
     ]
    }
   ],
   "source": [
    "# Importando bibliotecas\n",
    "from urllib.request import urlopen, urlretrieve\n",
    "from bs4 import BeautifulSoup\n",
    "import pandas as pd\n",
    "\n",
    "# Declarando variável cards\n",
    "cards = []\n",
    "\n",
    "## Obtendo o HTML e o total de páginas\n",
    "url = \"https://celulares.mercadolibre.com.ar/celular-smarphones_NoIndex_True\"\n",
    "response = urlopen(url)\n",
    "html = response.read().decode('utf-8')\n",
    "soup = BeautifulSoup(html, 'html.parser')\n",
    "\n",
    "num_pages = 5\n",
    "num_items = 50\n",
    "current_page = 1\n",
    "\n",
    " \n",
    "response = urlopen(url)\n",
    "html = response.read().decode('utf-8')\n",
    "soup = BeautifulSoup(html, 'html.parser')\n",
    "print(url)\n",
    "ol = soup.find_all('ol', {'class': ['ui-search-layout', 'ui-search-layout--stack']})\n",
    "for li in ol:\n",
    "    for li in li.find_all('li'):\n",
    "        print(li.text.split(' '))"
   ]
  },
  {
   "cell_type": "code",
   "execution_count": 130,
   "metadata": {},
   "outputs": [
    {
     "name": "stdout",
     "output_type": "stream",
     "text": [
      "https://celulares.mercadolibre.com.ar/celular-smarphones_NoIndex_True\n"
     ]
    }
   ],
   "source": [
    "# Importando bibliotecas\n",
    "from urllib.request import urlopen, urlretrieve\n",
    "from bs4 import BeautifulSoup\n",
    "import pandas as pd\n",
    "\n",
    "# Declarando variável cards\n",
    "cards = []\n",
    "\n",
    "## Obtendo o HTML e o total de páginas\n",
    "url = \"https://celulares.mercadolibre.com.ar/celular-smarphones_NoIndex_True\"\n",
    "response = urlopen(url)\n",
    "html = response.read().decode('utf-8')\n",
    "soup = BeautifulSoup(html, 'html.parser')\n",
    "\n",
    "num_pages = 5\n",
    "num_items = 50\n",
    "current_page = 1\n",
    "\n",
    " \n",
    "response = urlopen(url)\n",
    "html = response.read().decode('utf-8')\n",
    "soup = BeautifulSoup(html, 'html.parser')\n",
    "print(url)\n",
    "ol = soup.find_all('ol', {'class': ['ui-search-layout', 'ui-search-layout--stack']})\n",
    "for li in ol:\n",
    "    for li in li.findAll('li', {'class':['ui-search-layout__item']}):\n",
    "        card={}\n",
    "    \n",
    "    \n",
    "        infos = li.find('h2', {'class': 'ui-search-item__title'}).findAll('p')\n",
    "     \n",
    "        card['titulo'] =  li.h2.getText()\n",
    "       \n",
    "        card['preco'] = li.findAll('span', {'class': ['price-tag-fraction']})[0].getText()\n",
    "        \n",
    "        card['amount'] = li.find('span', {'class': ['ui-search-reviews__amount']}).getText()\n",
    "        \n",
    "        \n",
    "        \n",
    "\n",
    "        \n",
    "        cards.append(card)\n",
    "       # print(cards)\n",
    "      \n",
    "\n",
    "    dataset = pd.DataFrame(cards)\n",
    "    dataset.to_csv('dataset.csv', sep=';', index = False, encoding = 'utf-8-sig')"
   ]
  },
  {
   "cell_type": "code",
   "execution_count": 120,
   "metadata": {},
   "outputs": [
    {
     "data": {
      "text/html": [
       "<div>\n",
       "<style scoped>\n",
       "    .dataframe tbody tr th:only-of-type {\n",
       "        vertical-align: middle;\n",
       "    }\n",
       "\n",
       "    .dataframe tbody tr th {\n",
       "        vertical-align: top;\n",
       "    }\n",
       "\n",
       "    .dataframe thead th {\n",
       "        text-align: right;\n",
       "    }\n",
       "</style>\n",
       "<table border=\"1\" class=\"dataframe\">\n",
       "  <thead>\n",
       "    <tr style=\"text-align: right;\">\n",
       "      <th></th>\n",
       "      <th>titulo</th>\n",
       "    </tr>\n",
       "  </thead>\n",
       "  <tbody>\n",
       "    <tr>\n",
       "      <th>0</th>\n",
       "      <td>Xiaomi Mi 11 Lite 5G Dual SIM 128 GB negro tru...</td>\n",
       "    </tr>\n",
       "    <tr>\n",
       "      <th>1</th>\n",
       "      <td>Nokia 106 (2018) 4 MB gris oscuro 4 MB RAM</td>\n",
       "    </tr>\n",
       "    <tr>\n",
       "      <th>2</th>\n",
       "      <td>Samsung Galaxy S21+ 5G 128 GB phantom silver 8...</td>\n",
       "    </tr>\n",
       "    <tr>\n",
       "      <th>3</th>\n",
       "      <td>Samsung Galaxy A12 64 GB negro 4 GB RAM</td>\n",
       "    </tr>\n",
       "    <tr>\n",
       "      <th>4</th>\n",
       "      <td>Kodak Smartway L1 Pro Dual SIM 16 GB plata 1 G...</td>\n",
       "    </tr>\n",
       "  </tbody>\n",
       "</table>\n",
       "</div>"
      ],
      "text/plain": [
       "                                              titulo\n",
       "0  Xiaomi Mi 11 Lite 5G Dual SIM 128 GB negro tru...\n",
       "1         Nokia 106 (2018) 4 MB gris oscuro 4 MB RAM\n",
       "2  Samsung Galaxy S21+ 5G 128 GB phantom silver 8...\n",
       "3            Samsung Galaxy A12 64 GB negro 4 GB RAM\n",
       "4  Kodak Smartway L1 Pro Dual SIM 16 GB plata 1 G..."
      ]
     },
     "execution_count": 120,
     "metadata": {},
     "output_type": "execute_result"
    }
   ],
   "source": [
    "df = pd.read_csv('dataset.csv')\n",
    "df.head()\n"
   ]
  },
  {
   "cell_type": "code",
   "execution_count": 121,
   "metadata": {},
   "outputs": [
    {
     "data": {
      "text/plain": [
       "(52, 1)"
      ]
     },
     "execution_count": 121,
     "metadata": {},
     "output_type": "execute_result"
    }
   ],
   "source": [
    "df.shape"
   ]
  },
  {
   "cell_type": "code",
   "execution_count": null,
   "metadata": {},
   "outputs": [],
   "source": []
  }
 ],
 "metadata": {
  "interpreter": {
   "hash": "8fe27826a598e52264c8bb2c6574585d32b07e135737a8aad87a80e2d6a1f1bd"
  },
  "kernelspec": {
   "display_name": "Python 3 (ipykernel)",
   "language": "python",
   "name": "python3"
  },
  "language_info": {
   "codemirror_mode": {
    "name": "ipython",
    "version": 3
   },
   "file_extension": ".py",
   "mimetype": "text/x-python",
   "name": "python",
   "nbconvert_exporter": "python",
   "pygments_lexer": "ipython3",
   "version": "3.9.9"
  }
 },
 "nbformat": 4,
 "nbformat_minor": 2
}
